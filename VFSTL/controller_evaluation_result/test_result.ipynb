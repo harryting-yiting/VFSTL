{
 "cells": [
  {
   "cell_type": "code",
   "execution_count": 3,
   "metadata": {},
   "outputs": [],
   "source": [
    "import torch as th"
   ]
  },
  {
   "cell_type": "code",
   "execution_count": 9,
   "metadata": {},
   "outputs": [
    {
     "data": {
      "text/plain": [
       "tensor([[ 0.1075],\n",
       "        [-0.0375],\n",
       "        [-0.1629],\n",
       "        [ 0.0464],\n",
       "        [ 0.0599],\n",
       "        [-0.2465],\n",
       "        [ 0.0853],\n",
       "        [ 0.1498],\n",
       "        [ 0.0555],\n",
       "        [ 0.1368],\n",
       "        [ 0.1107],\n",
       "        [ 0.0120],\n",
       "        [ 0.1120],\n",
       "        [-0.1605],\n",
       "        [ 0.0437],\n",
       "        [ 0.0462],\n",
       "        [ 0.0819],\n",
       "        [ 0.1148],\n",
       "        [ 0.1361],\n",
       "        [ 0.1836],\n",
       "        [ 0.0469],\n",
       "        [ 0.1781],\n",
       "        [ 0.0604],\n",
       "        [ 0.1202],\n",
       "        [-0.3691],\n",
       "        [ 0.1560],\n",
       "        [-0.3148],\n",
       "        [-0.0034],\n",
       "        [ 0.0696],\n",
       "        [-0.3283],\n",
       "        [ 0.1143],\n",
       "        [-0.2310],\n",
       "        [ 0.0588],\n",
       "        [ 0.0304],\n",
       "        [ 0.1088],\n",
       "        [ 0.1320],\n",
       "        [ 0.1015],\n",
       "        [ 0.1282],\n",
       "        [-0.1500],\n",
       "        [ 0.0717],\n",
       "        [ 0.1560],\n",
       "        [-0.0772],\n",
       "        [ 0.0725],\n",
       "        [ 0.0993],\n",
       "        [-0.3010],\n",
       "        [ 0.0039],\n",
       "        [ 0.0831],\n",
       "        [ 0.1120],\n",
       "        [ 0.1270],\n",
       "        [ 0.0606],\n",
       "        [ 0.0014],\n",
       "        [ 0.1010],\n",
       "        [-0.0072],\n",
       "        [ 0.0919],\n",
       "        [ 0.0856],\n",
       "        [ 0.0600],\n",
       "        [-0.2578],\n",
       "        [-0.0384],\n",
       "        [ 0.1043],\n",
       "        [ 0.0718],\n",
       "        [ 0.0165],\n",
       "        [ 0.1078],\n",
       "        [ 0.0773],\n",
       "        [ 0.1213],\n",
       "        [ 0.0379],\n",
       "        [ 0.0107],\n",
       "        [ 0.0739],\n",
       "        [-0.2718],\n",
       "        [ 0.1115],\n",
       "        [ 0.0813],\n",
       "        [ 0.1350],\n",
       "        [ 0.0674],\n",
       "        [-0.0312],\n",
       "        [ 0.1096],\n",
       "        [ 0.0749],\n",
       "        [ 0.1223],\n",
       "        [ 0.0611],\n",
       "        [-0.2624],\n",
       "        [ 0.0925],\n",
       "        [ 0.1635],\n",
       "        [ 0.0442],\n",
       "        [ 0.1069],\n",
       "        [ 0.1729],\n",
       "        [-0.2304],\n",
       "        [-0.2925],\n",
       "        [-0.0748],\n",
       "        [ 0.1639],\n",
       "        [ 0.0958],\n",
       "        [-0.4000],\n",
       "        [-0.0289],\n",
       "        [ 0.1284],\n",
       "        [ 0.0850],\n",
       "        [ 0.0778],\n",
       "        [ 0.1803],\n",
       "        [ 0.1282],\n",
       "        [ 0.0653],\n",
       "        [ 0.1163],\n",
       "        [ 0.0220],\n",
       "        [ 0.0691],\n",
       "        [ 0.1025]], device='cuda:0', dtype=torch.float64)"
      ]
     },
     "execution_count": 9,
     "metadata": {},
     "output_type": "execute_result"
    }
   ],
   "source": [
    "a = th.load('/app/vfstl/src/VFSTL/controller_evaluation_result/vfs_robs_mcts_mpc_chain_expolre1_20240322_070715.pt')\n",
    "a"
   ]
  },
  {
   "cell_type": "code",
   "execution_count": 5,
   "metadata": {},
   "outputs": [
    {
     "data": {
      "text/plain": [
       "77"
      ]
     },
     "execution_count": 5,
     "metadata": {},
     "output_type": "execute_result"
    }
   ],
   "source": [
    "a = a.flatten()\n",
    "num_positive = (a > 0).sum().item()\n",
    "num_positive"
   ]
  },
  {
   "cell_type": "code",
   "execution_count": 6,
   "metadata": {},
   "outputs": [],
   "source": [
    "b = th.load('/app/vfstl/src/VFSTL/controller_evaluation_result/ground_truth_mcts_mpc_chain_expolre1_20240322_070715.pt')"
   ]
  },
  {
   "cell_type": "code",
   "execution_count": 7,
   "metadata": {},
   "outputs": [
    {
     "data": {
      "text/plain": [
       "39"
      ]
     },
     "execution_count": 7,
     "metadata": {},
     "output_type": "execute_result"
    }
   ],
   "source": [
    "b = b.to(th.device('cpu'))\n",
    "b = b.flatten()\n",
    "num_positive = (b > 0).sum().item()\n",
    "num_positive"
   ]
  },
  {
   "cell_type": "code",
   "execution_count": 8,
   "metadata": {},
   "outputs": [
    {
     "data": {
      "text/plain": [
       "[True,\n",
       " True,\n",
       " False,\n",
       " False,\n",
       " True,\n",
       " False,\n",
       " True,\n",
       " True,\n",
       " False,\n",
       " False,\n",
       " False,\n",
       " False,\n",
       " True,\n",
       " False,\n",
       " True,\n",
       " True,\n",
       " False,\n",
       " True,\n",
       " True,\n",
       " True,\n",
       " False,\n",
       " True,\n",
       " False,\n",
       " False,\n",
       " False,\n",
       " True,\n",
       " False,\n",
       " True,\n",
       " False,\n",
       " False,\n",
       " False,\n",
       " False,\n",
       " True,\n",
       " True,\n",
       " False,\n",
       " True,\n",
       " False,\n",
       " False,\n",
       " False,\n",
       " True,\n",
       " True,\n",
       " False,\n",
       " False,\n",
       " True,\n",
       " False,\n",
       " False,\n",
       " False,\n",
       " True,\n",
       " True,\n",
       " False,\n",
       " False,\n",
       " False,\n",
       " False,\n",
       " True,\n",
       " False,\n",
       " False,\n",
       " False,\n",
       " False,\n",
       " False,\n",
       " False,\n",
       " False,\n",
       " True,\n",
       " False,\n",
       " False,\n",
       " False,\n",
       " False,\n",
       " False,\n",
       " False,\n",
       " True,\n",
       " False,\n",
       " True,\n",
       " True,\n",
       " True,\n",
       " True,\n",
       " False,\n",
       " False,\n",
       " True,\n",
       " False,\n",
       " False,\n",
       " True,\n",
       " False,\n",
       " True,\n",
       " True,\n",
       " False,\n",
       " False,\n",
       " False,\n",
       " True,\n",
       " True,\n",
       " False,\n",
       " False,\n",
       " True,\n",
       " True,\n",
       " False,\n",
       " True,\n",
       " True,\n",
       " False,\n",
       " True,\n",
       " False,\n",
       " False,\n",
       " True]"
      ]
     },
     "execution_count": 8,
     "metadata": {},
     "output_type": "execute_result"
    }
   ],
   "source": [
    "c = th.load('/app/vfstl/src/VFSTL/controller_evaluation_result/zone_truth_mcts_mpc_chain_expolre1_20240322_070715.pt')\n",
    "c"
   ]
  }
 ],
 "metadata": {
  "kernelspec": {
   "display_name": "myenv",
   "language": "python",
   "name": "python3"
  },
  "language_info": {
   "codemirror_mode": {
    "name": "ipython",
    "version": 3
   },
   "file_extension": ".py",
   "mimetype": "text/x-python",
   "name": "python",
   "nbconvert_exporter": "python",
   "pygments_lexer": "ipython3",
   "version": "3.7.12"
  }
 },
 "nbformat": 4,
 "nbformat_minor": 2
}
