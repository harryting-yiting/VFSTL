{
 "cells": [
  {
   "cell_type": "code",
   "execution_count": null,
   "metadata": {},
   "outputs": [],
   "source": [
    "import torch as th\n",
    "import numpy as np\n",
    "import pandas as pd\n",
    "import matplotlib.pyplot as plt\n",
    "import seaborn as sns"
   ]
  },
  {
   "cell_type": "code",
   "execution_count": null,
   "metadata": {},
   "outputs": [],
   "source": [
    "def task_df(vfs_filepath, gt_filepath, zone_filepath, task_name):\n",
    "    vfs_robs = th.load(vfs_filepath)\n",
    "    gt_robs = th.load(gt_filepath)\n",
    "    zone_gt = th.load(zone_filepath)\n",
    "\n",
    "    device = th.device('cpu')\n",
    "    vfs_robs = vfs_robs.flatten().to(device).numpy()\n",
    "    gt_robs = gt_robs.flatten().to(device).numpy()\n",
    "    zone_gt = np.array(zone_gt)\n",
    "\n",
    "    task_names = np.repeat(task_name, len(zone_gt))\n",
    "\n",
    "    combined = np.stack((vfs_robs, gt_robs, zone_gt, task_names), axis=1)\n",
    "    column_vales = ['VFS Robustness', 'State Space Robustness', 'zone_gt', 'task']\n",
    "\n",
    "    df = pd.DataFrame(data=combined, columns=column_vales)\n",
    "    return df\n"
   ]
  },
  {
   "cell_type": "code",
   "execution_count": null,
   "metadata": {},
   "outputs": [],
   "source": [
    "# construct dataframe with [vfs_robs, gt_robs, zone_gt]\n",
    "chain_vfs_path = '/app/vfstl/src/VFSTL/controller_evaluation_result/vfs_robs__mcts_mpc_chain_3c3_20240321_162656.pt'\n",
    "chain_gt_path = '/app/vfstl/src/VFSTL/controller_evaluation_result/ground_truth_mcts_mpc_chain_3c3_20240321_162656.pt'\n",
    "chain_zone_path = '/app/vfstl/src/VFSTL/controller_evaluation_result/zone_truth__mcts_mpc_chain_3c3_20240321_162656.pt'\n",
    "\n",
    "df_chain = task_df(chain_vfs_path, chain_gt_path, chain_zone_path, 'chain')\n",
    "\n",
    "avoid_vfs_path = '/app/vfstl/src/VFSTL/controller_evaluation_result/vfs_robs_mcts_mpc_avoid_20240322_091543.pt'\n",
    "avoid_gt_path = '/app/vfstl/src/VFSTL/controller_evaluation_result/ground_truth_mcts_mpc_avoid_20240322_091543.pt'\n",
    "avoid_zone_path = '/app/vfstl/src/VFSTL/controller_evaluation_result/zone_truth_mcts_mpc_avoid_20240322_091543.pt'\n",
    "\n",
    "df_avoid = task_df(avoid_vfs_path, avoid_gt_path, avoid_zone_path, 'avoid')\n",
    "\n",
    "stable_vfs_path = '/app/vfstl/src/VFSTL/controller_evaluation_result/ground_truth_mcts_mpc_stable_20240322_115317.pt'\n",
    "stable_gt_path = '/app/vfstl/src/VFSTL/controller_evaluation_result/ground_truth_mcts_mpc_stable_20240322_115317.pt'\n",
    "stable_zone_path = '/app/vfstl/src/VFSTL/controller_evaluation_result/zone_truth_mcts_mpc_stable_20240322_115317.pt'\n",
    "\n",
    "df_stable = task_df(avoid_vfs_path, avoid_gt_path, avoid_zone_path, 'stable')\n",
    "\n",
    "df_plot = pd.concat([df_chain, df_avoid, df_stable], axis=0)\n",
    "df_plot['VFS Robustness'] = pd.to_numeric(df_plot['VFS Robustness'])\n",
    "df_plot['State Space Robustness'] = pd.to_numeric(df_plot['State Space Robustness'])"
   ]
  },
  {
   "cell_type": "code",
   "execution_count": null,
   "metadata": {},
   "outputs": [],
   "source": [
    "mdf = pd.melt(df_plot[['VFS Robustness', 'State Space Robustness', 'task']], id_vars=['task'])\n",
    "mdf"
   ]
  },
  {
   "cell_type": "code",
   "execution_count": null,
   "metadata": {},
   "outputs": [],
   "source": [
    "fig, ax = plt.subplots()\n",
    "color_dic = {\n",
    "    'VFS Robustness': 'yellow', \n",
    "    'State Space Robustness': 'red'\n",
    "}\n",
    "sns.boxplot(data=mdf, x=\"task\", y=\"value\", hue='variable', ax=ax, palette=color_dic, gap=.1)\n",
    "# ax.set_ylim(-0.5, 0.5)\n",
    "plt.show()\n",
    "fig.savefig('time_step=100.png')"
   ]
  }
 ],
 "metadata": {
  "kernelspec": {
   "display_name": "myenv",
   "language": "python",
   "name": "python3"
  },
  "language_info": {
   "codemirror_mode": {
    "name": "ipython",
    "version": 3
   },
   "file_extension": ".py",
   "mimetype": "text/x-python",
   "name": "python",
   "nbconvert_exporter": "python",
   "pygments_lexer": "ipython3",
   "version": "3.7.12"
  }
 },
 "nbformat": 4,
 "nbformat_minor": 2
}
